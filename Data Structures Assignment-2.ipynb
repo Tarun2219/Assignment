{
 "cells": [
  {
   "cell_type": "code",
   "execution_count": null,
   "id": "26df2f47-6931-4df3-ad7f-e4c8101a0623",
   "metadata": {},
   "outputs": [],
   "source": [
    "#Q1\n",
    "# Python use hashtag symbol(#) to comment out the line.\n",
    "# There are three types of comment in python:-\n",
    "# (i) single line comment:- Python single line comment starts with hashtag(#). \n",
    "#                           If the comment exceeds the line then put the hashtag symbol on the second line.\n",
    "# (ii) multi line comment:- Python does not provide support of multi line comment.\n",
    "#                           We can use multiple hashtag(#) on every new line,\n",
    "#                           Python ignor the string literals that are not assigned to a variable,\n",
    "#                           We uses triple quotes(\"\"\") for multiline comment.\n",
    "#                           But this is not useful in Jupyter notebook.\n",
    "# (iii) docstring comment:- docstring is string literal with triple quotes, it added below the classes, modules and functions to describe what they do."
   ]
  },
  {
   "cell_type": "code",
   "execution_count": null,
   "id": "648b2f6d-4079-4b40-856e-e36600be0725",
   "metadata": {},
   "outputs": [],
   "source": [
    "#Q2\n",
    "# Variables are like container which is used to store the different values like string, integer, float, complex, etc.\n",
    "# We can easily declare a variable and assign the value to it, 'i' is a variable and by writing i = 9, we declare and assign the value same time."
   ]
  },
  {
   "cell_type": "code",
   "execution_count": null,
   "id": "f85241f8-c8cf-4b9b-ba93-a9c28b56522b",
   "metadata": {},
   "outputs": [],
   "source": [
    "#Q3\n",
    "# In python we can convert one data type into another by using functions like,\n",
    "# int()\n",
    "a = 3.5\n",
    "print(int(a)) # This gives the value in integer form.\n",
    "# float()\n",
    "b = 4\n",
    "print(float(b))\n",
    "# However it is not entirely possible to convert everything. If you have string how can you it into the float or integer."
   ]
  },
  {
   "cell_type": "code",
   "execution_count": null,
   "id": "df09e1a9-84e7-4b58-9ebb-dde3e84ce8e0",
   "metadata": {},
   "outputs": [],
   "source": [
    "#Q4\n",
    "# Open the command line and type the word python followed by the path to your script file,\n",
    "# like python first_script.py Hello world!"
   ]
  },
  {
   "cell_type": "code",
   "execution_count": null,
   "id": "5d42a848-57a3-44c1-9419-ed743ffa51f3",
   "metadata": {},
   "outputs": [],
   "source": [
    "#Q5\n",
    "my_list = [1,2,3,4,5]\n",
    "sub_list = my_list[1:3]\n",
    "print(sub_list)"
   ]
  },
  {
   "cell_type": "code",
   "execution_count": null,
   "id": "1f2739ce-84e4-4327-9c85-d16e22e9176a",
   "metadata": {},
   "outputs": [],
   "source": [
    "#Q6\n",
    "# Complex number is the combination of real and imaginary number, python helps to tackle and manipulate them.\n",
    "# (x+8j) x is a real number and 8j is the imaginary number."
   ]
  },
  {
   "cell_type": "code",
   "execution_count": null,
   "id": "4b9734fc-57e1-4e68-bc53-1538ba57bbe0",
   "metadata": {},
   "outputs": [],
   "source": [
    "#Q7\n",
    "# The correct way to declare a variable named age and assigned it is,\n",
    "age = 25"
   ]
  },
  {
   "cell_type": "code",
   "execution_count": null,
   "id": "0bddbcaf-3878-4c61-8db0-3519803159d3",
   "metadata": {},
   "outputs": [],
   "source": [
    "#Q8\n",
    "price = 9.99\n",
    "print(type (price)) # This variable is belong to float Data type."
   ]
  },
  {
   "cell_type": "code",
   "execution_count": null,
   "id": "9a6b1dd5-dc83-4439-bb12-b5eec0b928e8",
   "metadata": {},
   "outputs": [],
   "source": [
    "#Q9\n",
    "name = 'Tarun kumar kumawat'\n",
    "print(name)"
   ]
  },
  {
   "cell_type": "code",
   "execution_count": null,
   "id": "a5bbba02-216f-45f8-8274-10ea55a325c4",
   "metadata": {},
   "outputs": [],
   "source": [
    "#Q10\n",
    "a = \"Hello,World!\"\n",
    "print(a[6:11])"
   ]
  },
  {
   "cell_type": "code",
   "execution_count": null,
   "id": "2501c088-35c4-4a4c-a30e-a1b582610a9f",
   "metadata": {},
   "outputs": [],
   "source": [
    "#Q11\n",
    "is_student = True\n",
    "if is_student == True:\n",
    "    print(\"You are currently a student\")\n",
    "else:\n",
    "    print(\"You are currently not a student\")"
   ]
  }
 ],
 "metadata": {
  "kernelspec": {
   "display_name": "Python 3 (ipykernel)",
   "language": "python",
   "name": "python3"
  },
  "language_info": {
   "codemirror_mode": {
    "name": "ipython",
    "version": 3
   },
   "file_extension": ".py",
   "mimetype": "text/x-python",
   "name": "python",
   "nbconvert_exporter": "python",
   "pygments_lexer": "ipython3",
   "version": "3.10.8"
  }
 },
 "nbformat": 4,
 "nbformat_minor": 5
}

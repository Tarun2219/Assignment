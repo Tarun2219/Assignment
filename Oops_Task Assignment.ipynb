{
 "cells": [
  {
   "cell_type": "code",
   "execution_count": 1,
   "id": "8cd900d2-9a76-4008-8418-38b0edec200d",
   "metadata": {},
   "outputs": [],
   "source": [
    "# Q1, Create a vehicle class with an init method having instance variables as name_of_vehicle, max_speed and average_of_vehicle."
   ]
  },
  {
   "cell_type": "code",
   "execution_count": 2,
   "id": "9dbe15c1-7784-481d-8ed5-a84b006f1900",
   "metadata": {},
   "outputs": [],
   "source": [
    "class Vehicle:\n",
    "    \n",
    "    def __init__(self,name_of_vehicle,max_speed,average_of_vehicle):\n",
    "        self.name_of_vehicle = name_of_vehicle\n",
    "        self.max_speed = max_speed\n",
    "        self.average_of_vehicle = average_of_vehicle\n",
    "        \n",
    "    def return_vehicle_details(self):\n",
    "        return self.name_of_vehicle,self.max_speed,self.average_of_vehicle"
   ]
  },
  {
   "cell_type": "code",
   "execution_count": 3,
   "id": "ba5b1896-db95-499f-9482-4f5abddc0dbd",
   "metadata": {},
   "outputs": [],
   "source": [
    "V = Vehicle(\"Bugatti Chiron\",480,8)"
   ]
  },
  {
   "cell_type": "code",
   "execution_count": 4,
   "id": "99b53f0f-75c6-4e16-a746-cfc76469827e",
   "metadata": {},
   "outputs": [
    {
     "data": {
      "text/plain": [
       "('Bugatti Chiron', 480, 8)"
      ]
     },
     "execution_count": 4,
     "metadata": {},
     "output_type": "execute_result"
    }
   ],
   "source": [
    "V.return_vehicle_details()"
   ]
  },
  {
   "cell_type": "code",
   "execution_count": 5,
   "id": "6a039c45-77d0-4a85-8a88-6118d5a6f9a2",
   "metadata": {},
   "outputs": [
    {
     "data": {
      "text/plain": [
       "480"
      ]
     },
     "execution_count": 5,
     "metadata": {},
     "output_type": "execute_result"
    }
   ],
   "source": [
    "V.max_speed"
   ]
  },
  {
   "cell_type": "code",
   "execution_count": 6,
   "id": "929219c6-3f84-4c3e-b52d-91acf47e2a79",
   "metadata": {},
   "outputs": [
    {
     "data": {
      "text/plain": [
       "8"
      ]
     },
     "execution_count": 6,
     "metadata": {},
     "output_type": "execute_result"
    }
   ],
   "source": [
    "V.average_of_vehicle"
   ]
  },
  {
   "cell_type": "code",
   "execution_count": 7,
   "id": "79124784-929f-4452-bc56-1d746a0c351a",
   "metadata": {},
   "outputs": [
    {
     "data": {
      "text/plain": [
       "'Bugatti Chiron'"
      ]
     },
     "execution_count": 7,
     "metadata": {},
     "output_type": "execute_result"
    }
   ],
   "source": [
    "V.name_of_vehicle"
   ]
  },
  {
   "cell_type": "code",
   "execution_count": 8,
   "id": "af6818cc-04b5-49e0-95e1-3daba6454644",
   "metadata": {},
   "outputs": [],
   "source": [
    "# Q2. Create a child class car from the vehicle class created in Que 1, \n",
    "# which will inherit the vehicle class. \n",
    "# Create a method named seating_capacity which takes capacity as an argument and returns the name of the vehicle and its seating capacity."
   ]
  },
  {
   "cell_type": "code",
   "execution_count": 9,
   "id": "bf40063a-1c23-463a-99c4-4458e3e76630",
   "metadata": {},
   "outputs": [],
   "source": [
    "class car(Vehicle):\n",
    "    \n",
    "    def seating_capacity(self,capacity):\n",
    "        return self.name_of_vehicle,capacity"
   ]
  },
  {
   "cell_type": "code",
   "execution_count": 10,
   "id": "a8aa89f0-a66a-43c1-bc44-fa8f889635f9",
   "metadata": {},
   "outputs": [],
   "source": [
    "C = car(\"Bugatti Chiron\",480,8)"
   ]
  },
  {
   "cell_type": "code",
   "execution_count": 11,
   "id": "3ffea38b-a093-4796-b356-d251d63294a5",
   "metadata": {},
   "outputs": [
    {
     "data": {
      "text/plain": [
       "('Bugatti Chiron', 2)"
      ]
     },
     "execution_count": 11,
     "metadata": {},
     "output_type": "execute_result"
    }
   ],
   "source": [
    "C.seating_capacity(2)"
   ]
  },
  {
   "cell_type": "code",
   "execution_count": 12,
   "id": "0122db89-5f30-4505-88a7-8f7d1336006c",
   "metadata": {},
   "outputs": [],
   "source": [
    "# Q3. What is multiple inheritance? Write a python code to demonstrate multiple inheritance."
   ]
  },
  {
   "cell_type": "code",
   "execution_count": 13,
   "id": "ead1603b-9ef5-45a0-8334-1662ddb085cd",
   "metadata": {},
   "outputs": [
    {
     "data": {
      "text/plain": [
       "'Multiple inheritance is a feature in which a class can inherit characteristics and features from more than one parent class.\\nIf a child class is inheriting the properties of a single other class, \\nwe call it single inheritance.\\nHowever, if a child class inherits from more than one class, i.e. this child class is derived from multiple classes, \\nwe call it multiple inheritance in Python.'"
      ]
     },
     "execution_count": 13,
     "metadata": {},
     "output_type": "execute_result"
    }
   ],
   "source": [
    "\"\"\"Multiple inheritance is a feature in which a class can inherit characteristics and features from more than one parent class.\n",
    "If a child class is inheriting the properties of a single other class, \n",
    "we call it single inheritance.\n",
    "However, if a child class inherits from more than one class, i.e. this child class is derived from multiple classes, \n",
    "we call it multiple inheritance in Python.\"\"\""
   ]
  },
  {
   "cell_type": "code",
   "execution_count": 14,
   "id": "000878ca-f06a-4fbe-a0d3-b74e8dc3e225",
   "metadata": {},
   "outputs": [],
   "source": [
    "class father:\n",
    "    def father_class(self):\n",
    "        return \"Father characteristics\""
   ]
  },
  {
   "cell_type": "code",
   "execution_count": 15,
   "id": "cdae0f76-3467-41b7-b8e2-988582138631",
   "metadata": {},
   "outputs": [],
   "source": [
    "class mother:\n",
    "    def mother_class(self):\n",
    "        return \"Mother characteristics\""
   ]
  },
  {
   "cell_type": "code",
   "execution_count": 16,
   "id": "d0907deb-7dd4-41e2-998f-2f5d4c120d7f",
   "metadata": {},
   "outputs": [],
   "source": [
    "class child(father,mother):\n",
    "    def child_class(self):\n",
    "        return \"Child characteristics\""
   ]
  },
  {
   "cell_type": "code",
   "execution_count": 17,
   "id": "8b7f16d5-4018-493a-9628-d0219f661e7e",
   "metadata": {},
   "outputs": [],
   "source": [
    "Varon = child()"
   ]
  },
  {
   "cell_type": "code",
   "execution_count": 18,
   "id": "9d62ff43-0c62-4e00-a443-170893a876e3",
   "metadata": {},
   "outputs": [
    {
     "data": {
      "text/plain": [
       "'Father characteristics'"
      ]
     },
     "execution_count": 18,
     "metadata": {},
     "output_type": "execute_result"
    }
   ],
   "source": [
    "Varon.father_class()"
   ]
  },
  {
   "cell_type": "code",
   "execution_count": 19,
   "id": "3072be45-c34e-4654-a27a-394a4363bbbd",
   "metadata": {},
   "outputs": [
    {
     "data": {
      "text/plain": [
       "'Mother characteristics'"
      ]
     },
     "execution_count": 19,
     "metadata": {},
     "output_type": "execute_result"
    }
   ],
   "source": [
    "Varon.mother_class()"
   ]
  },
  {
   "cell_type": "code",
   "execution_count": 20,
   "id": "ede5a88c-c3fe-4390-b239-0a63bc9aa095",
   "metadata": {},
   "outputs": [
    {
     "data": {
      "text/plain": [
       "'Child characteristics'"
      ]
     },
     "execution_count": 20,
     "metadata": {},
     "output_type": "execute_result"
    }
   ],
   "source": [
    "Varon.child_class()"
   ]
  },
  {
   "cell_type": "code",
   "execution_count": 21,
   "id": "858b8333-753a-4156-ad89-499654de3a2b",
   "metadata": {},
   "outputs": [],
   "source": [
    "# Q4. What are getter and setter in python? Create a class and create a getter and a setter method in this class."
   ]
  },
  {
   "cell_type": "code",
   "execution_count": 22,
   "id": "7e0b48be-3d07-4095-bcd3-f73775e3e4bd",
   "metadata": {},
   "outputs": [
    {
     "data": {
      "text/plain": [
       "'Getters: These are the methods used in Object-Oriented Programming (OOPS) which helps to access the private attributes from a class.\\n   Setters: These are the methods used in OOPS feature which helps to set the value to private attributes in a class.'"
      ]
     },
     "execution_count": 22,
     "metadata": {},
     "output_type": "execute_result"
    }
   ],
   "source": [
    "\"\"\"Getters: These are the methods used in Object-Oriented Programming (OOPS) which helps to access the private attributes from a class.\n",
    "   Setters: These are the methods used in OOPS feature which helps to set the value to private attributes in a class.\"\"\""
   ]
  },
  {
   "cell_type": "code",
   "execution_count": 23,
   "id": "ffa8a0e8-338c-46e5-938d-04cc38821ff1",
   "metadata": {},
   "outputs": [],
   "source": [
    "class course:\n",
    "    \n",
    "    def __init__(self,course_name,course_price):\n",
    "        self.course_name = course_name\n",
    "        self.__course_price = course_price\n",
    "    \n",
    "    @property\n",
    "    def course_price_access(self):\n",
    "        return self.__course_price\n",
    "    \n",
    "    @course_price_access.setter\n",
    "    def course_price_set(self,price):\n",
    "        if price <= 3500:\n",
    "            pass\n",
    "        else:\n",
    "            self.__course_price = price\n",
    "                \n",
    "    @course_price_access.deleter\n",
    "    def course_price_delete(self):\n",
    "        del self.__course_price"
   ]
  },
  {
   "cell_type": "code",
   "execution_count": 24,
   "id": "d0487aaf-12ba-4e12-8d2a-655232e69fe0",
   "metadata": {},
   "outputs": [],
   "source": [
    "c = course(\"Data Science\",3500)"
   ]
  },
  {
   "cell_type": "code",
   "execution_count": 25,
   "id": "4c347d11-8b9b-4073-a920-f54fd903f9fe",
   "metadata": {},
   "outputs": [
    {
     "data": {
      "text/plain": [
       "'Data Science'"
      ]
     },
     "execution_count": 25,
     "metadata": {},
     "output_type": "execute_result"
    }
   ],
   "source": [
    "c.course_name"
   ]
  },
  {
   "cell_type": "code",
   "execution_count": 26,
   "id": "cd9db028-76e3-49b8-84f1-e58ad32e9667",
   "metadata": {},
   "outputs": [
    {
     "data": {
      "text/plain": [
       "3500"
      ]
     },
     "execution_count": 26,
     "metadata": {},
     "output_type": "execute_result"
    }
   ],
   "source": [
    "c.course_price_access"
   ]
  },
  {
   "cell_type": "code",
   "execution_count": 27,
   "id": "3be14c1a-771b-4b19-b315-ba5e756dfdd9",
   "metadata": {},
   "outputs": [],
   "source": [
    "c.course_price_set = 4000"
   ]
  },
  {
   "cell_type": "code",
   "execution_count": 28,
   "id": "fe7a4fe8-061d-4551-8988-7846085a740d",
   "metadata": {},
   "outputs": [
    {
     "data": {
      "text/plain": [
       "4000"
      ]
     },
     "execution_count": 28,
     "metadata": {},
     "output_type": "execute_result"
    }
   ],
   "source": [
    "c.course_price_access"
   ]
  },
  {
   "cell_type": "code",
   "execution_count": 29,
   "id": "51862079-ef07-4c4f-897a-39aec11e7e45",
   "metadata": {},
   "outputs": [],
   "source": [
    "del c.course_price_delete"
   ]
  },
  {
   "cell_type": "code",
   "execution_count": 30,
   "id": "57dbf9bb-e5e3-4c52-ad7b-89656cec5837",
   "metadata": {},
   "outputs": [],
   "source": [
    "# c.course_price_access  # Now if we call it again this throws an error saying \"course\" object has no attribute \"_course__course_price\""
   ]
  },
  {
   "cell_type": "code",
   "execution_count": 31,
   "id": "fc7b6853-fdac-4b75-a495-7b740ef1957a",
   "metadata": {},
   "outputs": [],
   "source": [
    "# Q5.What is method overriding in python? Write a python code to demonstrate method overriding."
   ]
  },
  {
   "cell_type": "code",
   "execution_count": 32,
   "id": "ae1f3dff-9b5b-4e5a-b811-dcd8914f1115",
   "metadata": {},
   "outputs": [
    {
     "data": {
      "text/plain": [
       "'Method overriding is an ability of any object-oriented programming language....\\nthat allows a subclass or child class to provide a specific implementation of a method that is already provided by parent classes.'"
      ]
     },
     "execution_count": 32,
     "metadata": {},
     "output_type": "execute_result"
    }
   ],
   "source": [
    "\"\"\"Method overriding is an ability of any object-oriented programming language....\n",
    "that allows a subclass or child class to provide a specific implementation of a method that is already provided by parent classes.\"\"\""
   ]
  },
  {
   "cell_type": "code",
   "execution_count": 33,
   "id": "5f0f1bea-b57c-4e6c-9d62-6f35171dbb28",
   "metadata": {},
   "outputs": [],
   "source": [
    "class Animal:\n",
    "    \n",
    "    def eat(self):\n",
    "        return \"Animal is eating\""
   ]
  },
  {
   "cell_type": "code",
   "execution_count": 34,
   "id": "c4bd98dd-9551-4326-b539-b43bd6f3e81c",
   "metadata": {},
   "outputs": [],
   "source": [
    "class Lion(Animal):\n",
    "    \n",
    "    def eat(self):\n",
    "        return \"Lion is eating the meat\""
   ]
  },
  {
   "cell_type": "code",
   "execution_count": 35,
   "id": "024c2930-ff6d-4b50-b6ce-56d2ff394eb8",
   "metadata": {},
   "outputs": [],
   "source": [
    "lion = Lion()"
   ]
  },
  {
   "cell_type": "code",
   "execution_count": 36,
   "id": "71aaa4cd-2736-4597-a9a0-91b8615d9363",
   "metadata": {},
   "outputs": [
    {
     "data": {
      "text/plain": [
       "'Lion is eating the meat'"
      ]
     },
     "execution_count": 36,
     "metadata": {},
     "output_type": "execute_result"
    }
   ],
   "source": [
    "lion.eat()"
   ]
  },
  {
   "cell_type": "code",
   "execution_count": null,
   "id": "110f23d1-61d4-481a-9dde-a7d4c5b84806",
   "metadata": {},
   "outputs": [],
   "source": []
  }
 ],
 "metadata": {
  "kernelspec": {
   "display_name": "Python 3 (ipykernel)",
   "language": "python",
   "name": "python3"
  },
  "language_info": {
   "codemirror_mode": {
    "name": "ipython",
    "version": 3
   },
   "file_extension": ".py",
   "mimetype": "text/x-python",
   "name": "python",
   "nbconvert_exporter": "python",
   "pygments_lexer": "ipython3",
   "version": "3.10.8"
  }
 },
 "nbformat": 4,
 "nbformat_minor": 5
}

{
 "cells": [
  {
   "cell_type": "code",
   "execution_count": null,
   "id": "3c89b73b-4672-42f9-9800-a3616aa848bd",
   "metadata": {},
   "outputs": [],
   "source": [
    "#Q1\n",
    "a = ['Hitesh',[2,3.5,True],4.5,(2,3,4)]"
   ]
  },
  {
   "cell_type": "code",
   "execution_count": null,
   "id": "1b74a651-2cf9-45cb-9317-8767bca403d1",
   "metadata": {},
   "outputs": [],
   "source": [
    "#Q2\n",
    "var1 = ''\n",
    "#Answer - string\n",
    "var2 = '[DS,ML,Python]'\n",
    "#Answer - String\n",
    "var3 = ['DS','ML','Python']\n",
    "#Answer - list\n",
    "var4 = 1.\n",
    "#Answer - Float"
   ]
  },
  {
   "cell_type": "code",
   "execution_count": null,
   "id": "2e34a5bb-2be3-4407-8bcf-a727ea9c8464",
   "metadata": {},
   "outputs": [],
   "source": [
    "#Q3\n",
    "# (i) Division operator\n",
    "# (ii) Modulos operator\n",
    "# (iii) division floor operator\n",
    "# (iv) Exponent operator"
   ]
  },
  {
   "cell_type": "code",
   "execution_count": null,
   "id": "a3e5eae6-cd57-4971-a98d-0f155aad5f82",
   "metadata": {},
   "outputs": [],
   "source": [
    "#Q4\n",
    "w = [2,3.5,2+7j,\"Tarun\",True,{'H1' : 2 , 'H2' : 4},(2,3,4),range(10),[2,3,4],{1,2,3,4}]\n",
    "for i in w:\n",
    "    print(i)\n",
    "    print(type(i))"
   ]
  },
  {
   "cell_type": "code",
   "execution_count": null,
   "id": "d1d6f137-c966-4059-9cd9-6b0ca18a7777",
   "metadata": {},
   "outputs": [],
   "source": [
    "#Q5\n",
    "a = int(input(\"Enter the number 1\\n\"))\n",
    "b = int(input(\"Enter the number 2\\n\"))\n",
    "while a%b == 0:\n",
    "    print(a,\"is purely divisible by\",b)\n",
    "    print(a,\"is divisible by\",b,a/b,\"Times\")\n",
    "    break\n",
    "else:\n",
    "    print(a,\"is not purely divisible by\",b)"
   ]
  },
  {
   "cell_type": "code",
   "execution_count": null,
   "id": "d15a7438-8cf2-441e-b93f-8957309f408f",
   "metadata": {},
   "outputs": [],
   "source": [
    "#Q6\n",
    "a = [1,2,3,4,5,6,7,8,9,10,11,12,13,14,15,16,17,18,19,20,21,22,23,24,25]\n",
    "for i in a:\n",
    "    if i%3==0:\n",
    "        print(i,\"is divisible by 3\")\n",
    "    else:\n",
    "        print(i,\"is not divisible by 3\")"
   ]
  },
  {
   "cell_type": "code",
   "execution_count": null,
   "id": "2059fbca-3466-44aa-997b-d45238b90fc0",
   "metadata": {},
   "outputs": [],
   "source": [
    "#Q7\n",
    "#Answer - Mutable data types are those data types which allows changes in them.\n",
    "#Answer - Immutable data types not allow changes in there value.\n",
    "# Example - Tuple and List - We can change the value in the list with the help of index, But same not allowed in tuple.\n",
    "\n",
    "#Tuple\n",
    "a = (1,2,3,4)\n",
    "a[0] = 4\n",
    "print(a) # Tuple Object doesn't support item assignment\n",
    "\n",
    "#List\n",
    "b = [1,2.3,\"Ritu\",True]\n",
    "b[1] = 3+6j\n",
    "print(b) # Answer is [1,3+6j,\"Ritu\",True]"
   ]
  }
 ],
 "metadata": {
  "kernelspec": {
   "display_name": "Python 3 (ipykernel)",
   "language": "python",
   "name": "python3"
  },
  "language_info": {
   "codemirror_mode": {
    "name": "ipython",
    "version": 3
   },
   "file_extension": ".py",
   "mimetype": "text/x-python",
   "name": "python",
   "nbconvert_exporter": "python",
   "pygments_lexer": "ipython3",
   "version": "3.10.8"
  }
 },
 "nbformat": 4,
 "nbformat_minor": 5
}

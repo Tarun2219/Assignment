{
 "cells": [
  {
   "cell_type": "code",
   "execution_count": 1,
   "id": "260bb036-52fb-4a5a-b696-eaed02f54171",
   "metadata": {},
   "outputs": [],
   "source": [
    "#Q1 'def' keyword is used to create a function\n",
    "\n",
    "def test1():\n",
    "    l = []\n",
    "    for i in range(1,25):\n",
    "        if i%2 != 0:\n",
    "            l.append(i)\n",
    "    return l"
   ]
  },
  {
   "cell_type": "code",
   "execution_count": 2,
   "id": "b04c6206-efd8-4dc2-8b22-2ddb505c5445",
   "metadata": {},
   "outputs": [
    {
     "data": {
      "text/plain": [
       "[1, 3, 5, 7, 9, 11, 13, 15, 17, 19, 21, 23]"
      ]
     },
     "execution_count": 2,
     "metadata": {},
     "output_type": "execute_result"
    }
   ],
   "source": [
    "test1()"
   ]
  },
  {
   "cell_type": "code",
   "execution_count": 3,
   "id": "5ded7d1d-74d4-4938-9283-1cdb3b7ac905",
   "metadata": {},
   "outputs": [
    {
     "data": {
      "text/plain": [
       "\"*args is used to pass 'n' number of arguments inside a function, here main work is done by steric(*), \\nsteric allows 'n' number of arguments. You can also write your name in place of args.\\n**kwargs is used for Dictionary type values. It takes value in key and value form, and then convert it into dictionary values.\""
      ]
     },
     "execution_count": 3,
     "metadata": {},
     "output_type": "execute_result"
    }
   ],
   "source": [
    "#Q2\n",
    "\"\"\"*args is used to pass 'n' number of arguments inside a function, here main work is done by steric(*), \n",
    "steric allows 'n' number of arguments. You can also write your name in place of args.\n",
    "**kwargs is used for Dictionary type values. It takes value in key and value form, and then convert it into dictionary values.\"\"\""
   ]
  },
  {
   "cell_type": "code",
   "execution_count": 4,
   "id": "4e32c51e-2877-4dd8-9e81-f0945c3ffa14",
   "metadata": {},
   "outputs": [],
   "source": [
    "#Q2 *args\n",
    "def test2(*args):\n",
    "    return args"
   ]
  },
  {
   "cell_type": "code",
   "execution_count": 5,
   "id": "4fa4a20b-f08e-4fbe-85d1-2d7e44e30752",
   "metadata": {},
   "outputs": [
    {
     "data": {
      "text/plain": [
       "(1, 2, 3, 4, True, 7.7)"
      ]
     },
     "execution_count": 5,
     "metadata": {},
     "output_type": "execute_result"
    }
   ],
   "source": [
    "test2(1,2,3,4,True,7.7)"
   ]
  },
  {
   "cell_type": "code",
   "execution_count": 6,
   "id": "35ed97f2-9cf0-4666-9b07-38a422951922",
   "metadata": {},
   "outputs": [],
   "source": [
    "#Q2 **kwargs\n",
    "def test3(**kwargs):\n",
    "    return kwargs"
   ]
  },
  {
   "cell_type": "code",
   "execution_count": 7,
   "id": "a4e32c42-7a67-42c0-b450-ef6cc860b860",
   "metadata": {},
   "outputs": [
    {
     "data": {
      "text/plain": [
       "{'a': 4, 'b': True, 'c': (5+7j), 'd': 'Tarun'}"
      ]
     },
     "execution_count": 7,
     "metadata": {},
     "output_type": "execute_result"
    }
   ],
   "source": [
    "test3(a=4,b=True,c=5+7j,d='Tarun')"
   ]
  },
  {
   "cell_type": "code",
   "execution_count": 8,
   "id": "d8ddd50b-dd61-494a-bbea-37f43d461ee5",
   "metadata": {},
   "outputs": [
    {
     "data": {
      "text/plain": [
       "\" Iterator is a data from which by using next function we get the data one by one.\\n    The method used to initialise the iterator object is 'iter()' and for the iteration purpose next() function is used. \""
      ]
     },
     "execution_count": 8,
     "metadata": {},
     "output_type": "execute_result"
    }
   ],
   "source": [
    "#Q3\n",
    "\"\"\" Iterator is a data from which by using next function we get the data one by one.\n",
    "    The method used to initialise the iterator object is 'iter()' and for the iteration purpose next() function is used. \"\"\" "
   ]
  },
  {
   "cell_type": "code",
   "execution_count": 9,
   "id": "03246126-3b0f-4622-87aa-919fa7bd8df3",
   "metadata": {},
   "outputs": [],
   "source": [
    "#Q3\n",
    "l = [2,4,6,8,10,12,14,16,18,20]\n",
    "l1 = iter([2,4,6,8,10,12,14,16,18,20])"
   ]
  },
  {
   "cell_type": "code",
   "execution_count": 10,
   "id": "6637e505-2304-4444-aa39-c94036851522",
   "metadata": {},
   "outputs": [
    {
     "data": {
      "text/plain": [
       "2"
      ]
     },
     "execution_count": 10,
     "metadata": {},
     "output_type": "execute_result"
    }
   ],
   "source": [
    "next(l1)"
   ]
  },
  {
   "cell_type": "code",
   "execution_count": 11,
   "id": "7e01620a-22ca-4577-a66a-0411ced90968",
   "metadata": {},
   "outputs": [
    {
     "data": {
      "text/plain": [
       "4"
      ]
     },
     "execution_count": 11,
     "metadata": {},
     "output_type": "execute_result"
    }
   ],
   "source": [
    "next(l1)"
   ]
  },
  {
   "cell_type": "code",
   "execution_count": 12,
   "id": "e55a7998-340d-4101-8f7a-3c9087e6d97e",
   "metadata": {},
   "outputs": [
    {
     "data": {
      "text/plain": [
       "6"
      ]
     },
     "execution_count": 12,
     "metadata": {},
     "output_type": "execute_result"
    }
   ],
   "source": [
    "next(l1)"
   ]
  },
  {
   "cell_type": "code",
   "execution_count": 13,
   "id": "3995a695-6be3-444c-837a-09992fef5266",
   "metadata": {},
   "outputs": [
    {
     "data": {
      "text/plain": [
       "8"
      ]
     },
     "execution_count": 13,
     "metadata": {},
     "output_type": "execute_result"
    }
   ],
   "source": [
    "next(l1)"
   ]
  },
  {
   "cell_type": "code",
   "execution_count": 14,
   "id": "1aee2847-9ceb-436a-ad99-a8290d776894",
   "metadata": {},
   "outputs": [
    {
     "data": {
      "text/plain": [
       "10"
      ]
     },
     "execution_count": 14,
     "metadata": {},
     "output_type": "execute_result"
    }
   ],
   "source": [
    "next(l1)"
   ]
  },
  {
   "cell_type": "code",
   "execution_count": 15,
   "id": "0457f9e1-77ce-4ca2-8ce8-9647ab60f95e",
   "metadata": {},
   "outputs": [
    {
     "data": {
      "text/plain": [
       "' Generator function is used to give outcome one by one without holding everything into a memory. It does not give value in whole data \\n    in a single time.\\n    yield is a keyword used to make a generator function and helps in giving data.'"
      ]
     },
     "execution_count": 15,
     "metadata": {},
     "output_type": "execute_result"
    }
   ],
   "source": [
    "#Q4 \n",
    "\"\"\" Generator function is used to give outcome one by one without holding everything into a memory. It does not give value in whole data \n",
    "    in a single time.\n",
    "    yield is a keyword used to make a generator function and helps in giving data.\"\"\""
   ]
  },
  {
   "cell_type": "code",
   "execution_count": 16,
   "id": "d83f7bd4-13ad-418b-8cf4-378e47a61813",
   "metadata": {},
   "outputs": [],
   "source": [
    "#Q4\n",
    "def test_fib(n):\n",
    "    a,b = 0,1\n",
    "    for i in range(n):\n",
    "        yield a\n",
    "        a,b = b,a+b"
   ]
  },
  {
   "cell_type": "code",
   "execution_count": 17,
   "id": "0c05eb80-49a0-4363-9ed9-161e28c413f8",
   "metadata": {},
   "outputs": [
    {
     "data": {
      "text/plain": [
       "<generator object test_fib at 0x7f54b4c22260>"
      ]
     },
     "execution_count": 17,
     "metadata": {},
     "output_type": "execute_result"
    }
   ],
   "source": [
    "test_fib(15)"
   ]
  },
  {
   "cell_type": "code",
   "execution_count": 18,
   "id": "9170a4e0-d563-4119-9aeb-0a9be14da69a",
   "metadata": {},
   "outputs": [
    {
     "name": "stdout",
     "output_type": "stream",
     "text": [
      "0\n",
      "1\n",
      "1\n",
      "2\n",
      "3\n",
      "5\n",
      "8\n",
      "13\n",
      "21\n",
      "34\n",
      "55\n",
      "89\n",
      "144\n",
      "233\n",
      "377\n"
     ]
    }
   ],
   "source": [
    "for i in test_fib(15):\n",
    "    print(i)"
   ]
  },
  {
   "cell_type": "code",
   "execution_count": 19,
   "id": "98364c84-a6b5-4950-a68a-05fad657fa3c",
   "metadata": {},
   "outputs": [],
   "source": [
    "# Q5. Create a generator function for prime numbers less than 1000. Use the next() method to print the first 20 prime numbers."
   ]
  },
  {
   "cell_type": "code",
   "execution_count": 20,
   "id": "978306d3-7391-4977-9b50-9e0c24c879c7",
   "metadata": {},
   "outputs": [],
   "source": [
    "def prime_generator(limit):\n",
    "    for num in range(2, limit):\n",
    "        for i in range(2, num):\n",
    "            if num % i == 0:\n",
    "                break\n",
    "        else:\n",
    "            yield num"
   ]
  },
  {
   "cell_type": "code",
   "execution_count": 21,
   "id": "93f44e13-f6b3-4917-966e-4ae4ab0827aa",
   "metadata": {},
   "outputs": [],
   "source": [
    "primes = prime_generator(1000)"
   ]
  },
  {
   "cell_type": "code",
   "execution_count": 23,
   "id": "304a9f90-d51d-4b2f-823d-c9ffdb50c4ac",
   "metadata": {},
   "outputs": [
    {
     "name": "stdout",
     "output_type": "stream",
     "text": [
      "2\n",
      "3\n",
      "5\n",
      "7\n",
      "11\n",
      "13\n",
      "17\n",
      "19\n",
      "23\n",
      "29\n",
      "31\n",
      "37\n",
      "41\n",
      "43\n",
      "47\n",
      "53\n",
      "59\n",
      "61\n",
      "67\n",
      "71\n"
     ]
    }
   ],
   "source": [
    "for i in range(20):\n",
    "    print(next(primes))"
   ]
  },
  {
   "cell_type": "code",
   "execution_count": 24,
   "id": "920f69ec-4c46-4056-b780-2c774346fda3",
   "metadata": {},
   "outputs": [],
   "source": [
    "#Q6\n",
    "def test_fib1():\n",
    "    a,b = 0,1\n",
    "    while True:\n",
    "        yield a\n",
    "        a,b = b,a+b"
   ]
  },
  {
   "cell_type": "code",
   "execution_count": 25,
   "id": "2e35a6cf-66b5-491c-aad1-0d70f1323851",
   "metadata": {},
   "outputs": [],
   "source": [
    "fib = test_fib1()"
   ]
  },
  {
   "cell_type": "code",
   "execution_count": 26,
   "id": "94dc14f6-6729-4f94-afeb-eb82d9418674",
   "metadata": {},
   "outputs": [
    {
     "name": "stdout",
     "output_type": "stream",
     "text": [
      "0\n",
      "1\n",
      "1\n",
      "2\n",
      "3\n",
      "5\n",
      "8\n",
      "13\n",
      "21\n",
      "34\n"
     ]
    }
   ],
   "source": [
    "for i in range(10):\n",
    "    print(next(fib))"
   ]
  },
  {
   "cell_type": "code",
   "execution_count": 27,
   "id": "13724bb1-f1ba-4f47-b03b-d6eb8c96dcce",
   "metadata": {},
   "outputs": [
    {
     "name": "stdout",
     "output_type": "stream",
     "text": [
      "['p', 'w', 's', 'k', 'i', 'l', 'l', 's']\n"
     ]
    }
   ],
   "source": [
    "#Q7\n",
    "a = \"pwskills\"\n",
    "b = [x for x in a]\n",
    "print(b)"
   ]
  },
  {
   "cell_type": "code",
   "execution_count": 28,
   "id": "e1758380-c53d-49e9-b8eb-ab24bb8f02b1",
   "metadata": {},
   "outputs": [
    {
     "name": "stdin",
     "output_type": "stream",
     "text": [
      "Enter the number\n",
      " 404\n"
     ]
    },
    {
     "name": "stdout",
     "output_type": "stream",
     "text": [
      "404 is palindrome\n"
     ]
    }
   ],
   "source": [
    "#Q8\n",
    "num = input(\"Enter the number\\n\")\n",
    "rev = num[::-1]\n",
    "while num==rev:\n",
    "    print(num,\"is palindrome\")\n",
    "    break\n",
    "else:\n",
    "    print(num,\"is not a palindrome\")"
   ]
  },
  {
   "cell_type": "code",
   "execution_count": 29,
   "id": "3605612d-131e-4282-8707-c8dc56eaadac",
   "metadata": {},
   "outputs": [],
   "source": [
    "#Q9\n",
    "odd_list = [num for num in range(1,101) if num%2!=0]"
   ]
  },
  {
   "cell_type": "code",
   "execution_count": 30,
   "id": "12f738e5-c6f1-4fc7-8502-ba017f857111",
   "metadata": {},
   "outputs": [
    {
     "name": "stdout",
     "output_type": "stream",
     "text": [
      "[1, 3, 5, 7, 9, 11, 13, 15, 17, 19, 21, 23, 25, 27, 29, 31, 33, 35, 37, 39, 41, 43, 45, 47, 49, 51, 53, 55, 57, 59, 61, 63, 65, 67, 69, 71, 73, 75, 77, 79, 81, 83, 85, 87, 89, 91, 93, 95, 97, 99]\n"
     ]
    }
   ],
   "source": [
    "print(odd_list)"
   ]
  },
  {
   "cell_type": "code",
   "execution_count": null,
   "id": "12001a0c-6fc3-4d63-8e00-8a2e7313c5ef",
   "metadata": {},
   "outputs": [],
   "source": []
  }
 ],
 "metadata": {
  "kernelspec": {
   "display_name": "Python 3 (ipykernel)",
   "language": "python",
   "name": "python3"
  },
  "language_info": {
   "codemirror_mode": {
    "name": "ipython",
    "version": 3
   },
   "file_extension": ".py",
   "mimetype": "text/x-python",
   "name": "python",
   "nbconvert_exporter": "python",
   "pygments_lexer": "ipython3",
   "version": "3.10.8"
  }
 },
 "nbformat": 4,
 "nbformat_minor": 5
}

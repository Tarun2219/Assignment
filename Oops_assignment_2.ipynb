{
 "cells": [
  {
   "cell_type": "code",
   "execution_count": 1,
   "id": "e28b3e23-f4bf-4dc4-9b92-6a94f7ac4636",
   "metadata": {},
   "outputs": [],
   "source": [
    "#Q1. What is Abstraction in OOps? Explain with an example."
   ]
  },
  {
   "cell_type": "code",
   "execution_count": 2,
   "id": "83401a33-c2c0-434d-8326-fdbfadd1a426",
   "metadata": {},
   "outputs": [],
   "source": [
    "\"\"\" Abstraction is the method in Oops to create the blueprint for the other classes. Abstract class allows you to create set of methods,\n",
    "    you can use this methods in the child class which inherit the abstract class, and pass the statement and values accordingly.\"\"\"\n",
    "\n",
    "import abc\n",
    "class student:\n",
    "    \n",
    "    @abc.abstractmethod\n",
    "    def student_name(self):\n",
    "        pass\n",
    "    \n",
    "    @abc.abstractmethod\n",
    "    def student_rollno(self):\n",
    "        pass\n",
    "    \n",
    "    @abc.abstractmethod\n",
    "    def student_marks(self):\n",
    "        pass\n",
    "    \n",
    "    @abc.abstractmethod\n",
    "    def student_marks(self):\n",
    "        pass  "
   ]
  },
  {
   "cell_type": "code",
   "execution_count": 3,
   "id": "3a9c9227-5e1b-4ff4-b462-fe10fdd566e3",
   "metadata": {},
   "outputs": [],
   "source": [
    "class student_detail(student):\n",
    "    \n",
    "    def student_name(self):\n",
    "        return \"This is my method for the student name\"\n",
    "    \n",
    "    def student_rollno(self):\n",
    "        return \"This is my method for the student rollno\"\n",
    "    \n",
    "# You can also write other methods if you want to write or you can leave there is no problem"
   ]
  },
  {
   "cell_type": "code",
   "execution_count": 4,
   "id": "09ec5c63-da2d-4d8e-9d27-497f3c91bbf0",
   "metadata": {},
   "outputs": [],
   "source": [
    "# Q2. Differentiate between Abstraction and Encapsulation. Explain with an example."
   ]
  },
  {
   "cell_type": "code",
   "execution_count": 5,
   "id": "0dcf538a-ba89-42d6-97a8-8be382c42648",
   "metadata": {},
   "outputs": [
    {
     "data": {
      "text/plain": [
       "' Encapsulation:- Encapsulation puts restrictions on accessing variables and methods directly, which prevents the accidental modification of data,\\n    external user can only access this data by the method which expose the variable.'"
      ]
     },
     "execution_count": 5,
     "metadata": {},
     "output_type": "execute_result"
    }
   ],
   "source": [
    "\"\"\" Abstraction:- Abstraction is the method in Oops to create the blueprint for the other classes. Abstract class allows you to create set of methods,\n",
    "    you can use this methods in the child class which inherit the abstract class\"\"\"\n",
    "\n",
    "\"\"\" Encapsulation:- Encapsulation puts restrictions on accessing variables and methods directly, which prevents the accidental modification of data,\n",
    "    external user can only access this data by the method which expose the variable.\"\"\""
   ]
  },
  {
   "cell_type": "code",
   "execution_count": 6,
   "id": "828d9319-0a4a-44e5-9a65-b0ac81e07aa4",
   "metadata": {},
   "outputs": [],
   "source": [
    "# Abstraction\n",
    "\n",
    "import abc\n",
    "class vehicle:\n",
    "    \n",
    "    @abc.abstractmethod\n",
    "    def vehicle_name(self):\n",
    "        pass\n",
    "    \n",
    "    @abc.abstractmethod\n",
    "    def vehicle_make(self):\n",
    "        pass\n",
    "    \n",
    "    @abc.abstractmethod\n",
    "    def vehicle_speed(self):\n",
    "        pass"
   ]
  },
  {
   "cell_type": "code",
   "execution_count": 7,
   "id": "e1bf4da7-c669-4439-8bdd-39279918148a",
   "metadata": {},
   "outputs": [],
   "source": [
    "class Bike(vehicle):\n",
    "    \n",
    "    def vehicle_name(self):\n",
    "        return \"Ducati\"\n",
    "    \n",
    "    def vehicle_make(self):\n",
    "        return 2018\n",
    "    \n",
    "    def vehicle_speed(self):\n",
    "        return 300"
   ]
  },
  {
   "cell_type": "code",
   "execution_count": 8,
   "id": "3a603470-9eac-4f26-b544-1c06ebd71680",
   "metadata": {},
   "outputs": [],
   "source": [
    "BIKE = Bike()"
   ]
  },
  {
   "cell_type": "code",
   "execution_count": 9,
   "id": "d6f90894-f967-4c38-ba5e-98e2172207fc",
   "metadata": {},
   "outputs": [
    {
     "data": {
      "text/plain": [
       "300"
      ]
     },
     "execution_count": 9,
     "metadata": {},
     "output_type": "execute_result"
    }
   ],
   "source": [
    "BIKE.vehicle_speed()"
   ]
  },
  {
   "cell_type": "code",
   "execution_count": 10,
   "id": "17ad1f74-d9a7-495e-afec-fd53739dff45",
   "metadata": {},
   "outputs": [
    {
     "data": {
      "text/plain": [
       "'Ducati'"
      ]
     },
     "execution_count": 10,
     "metadata": {},
     "output_type": "execute_result"
    }
   ],
   "source": [
    "BIKE.vehicle_name()"
   ]
  },
  {
   "cell_type": "code",
   "execution_count": 11,
   "id": "16b5fcbe-5c04-4139-8fa0-b09479ad26b0",
   "metadata": {},
   "outputs": [
    {
     "data": {
      "text/plain": [
       "2018"
      ]
     },
     "execution_count": 11,
     "metadata": {},
     "output_type": "execute_result"
    }
   ],
   "source": [
    "BIKE.vehicle_make()"
   ]
  },
  {
   "cell_type": "code",
   "execution_count": 12,
   "id": "51c40e57-bc57-4cfb-ba59-3cf3393fc8e2",
   "metadata": {},
   "outputs": [],
   "source": [
    "#Encapsulation\n",
    "\n",
    "class Bill:\n",
    "    \n",
    "    def __init__(self,receiver_name,amount,date):\n",
    "        self.__receiver_name = receiver_name\n",
    "        self.__amount = amount\n",
    "        self.__date = date\n",
    "    \n",
    "    def return_details(self):\n",
    "        return self.__receiver_name,self.__amount,self.__date"
   ]
  },
  {
   "cell_type": "code",
   "execution_count": 13,
   "id": "483afc2e-05c6-42a7-89e5-9dc5831afca4",
   "metadata": {},
   "outputs": [],
   "source": [
    "bill = Bill(\"Krishna\",2000,\"24 january\")"
   ]
  },
  {
   "cell_type": "code",
   "execution_count": 14,
   "id": "7b3d4e1e-ad48-4bdf-ae2a-41f80b14da97",
   "metadata": {},
   "outputs": [
    {
     "data": {
      "text/plain": [
       "('Krishna', 2000, '24 january')"
      ]
     },
     "execution_count": 14,
     "metadata": {},
     "output_type": "execute_result"
    }
   ],
   "source": [
    "bill.return_details()"
   ]
  },
  {
   "cell_type": "code",
   "execution_count": 15,
   "id": "fee4baf8-a73f-4b3d-9100-6c4405436df6",
   "metadata": {},
   "outputs": [],
   "source": [
    "# Q3. What is abc module in python? Why is it used?"
   ]
  },
  {
   "cell_type": "code",
   "execution_count": 16,
   "id": "e3f59337-9a3a-491f-bfbf-b51569c48d17",
   "metadata": {},
   "outputs": [
    {
     "data": {
      "text/plain": [
       "' The abc module in Python is like a toolkit that gives you special tools to create blueprints for objects.\\n    These blueprints are called abstract base classes (ABCs).\\n    it defines what functions and features classes should have to ensure they work together well,and they also keep the code organized.'"
      ]
     },
     "execution_count": 16,
     "metadata": {},
     "output_type": "execute_result"
    }
   ],
   "source": [
    "\"\"\" The abc module in Python is like a toolkit that gives you special tools to create blueprints for objects.\n",
    "    These blueprints are called abstract base classes (ABCs).\n",
    "    it defines what functions and features classes should have to ensure they work together well,and they also keep the code organized.\"\"\""
   ]
  },
  {
   "cell_type": "code",
   "execution_count": 17,
   "id": "04a92082-76e7-438e-a518-9cd0656c6a46",
   "metadata": {},
   "outputs": [],
   "source": [
    "# Q4. How can we achieve data abstraction?"
   ]
  },
  {
   "cell_type": "code",
   "execution_count": 18,
   "id": "4a60b32f-3f21-4c4c-9e8d-b671b3200a61",
   "metadata": {},
   "outputs": [
    {
     "data": {
      "text/plain": [
       "' We can achieve this by using abc module and abstractmethod decorator.\\n    We can create objects of subclasses and use their methods, data abstraction helps in code reusability and keep the code organized.'"
      ]
     },
     "execution_count": 18,
     "metadata": {},
     "output_type": "execute_result"
    }
   ],
   "source": [
    "\"\"\" We can achieve this by using abc module and abstractmethod decorator.\n",
    "    We can create objects of subclasses and use their methods, data abstraction helps in code reusability and keep the code organized.\"\"\""
   ]
  },
  {
   "cell_type": "code",
   "execution_count": 19,
   "id": "f36eeac4-775d-4039-a76a-dc5184c698ed",
   "metadata": {},
   "outputs": [],
   "source": [
    "# Q5. Can we create an instance of an abstract class? Explain your answer."
   ]
  },
  {
   "cell_type": "code",
   "execution_count": 20,
   "id": "4f428e37-f4f5-477a-9073-dbd6b5df6735",
   "metadata": {},
   "outputs": [
    {
     "data": {
      "text/plain": [
       "\" No, it is not possible, an abstract class is meant to serve as blueprint for the other classes which inherit them.\\n    if you are going to try it, it will throw an error.\\n    \\n    Explanation: - abstract classes contain the abstract methods, methods don't have any written statement in it, they are defined with pass.\\n    Since abstract class don't have any written implementation, they cannot provide certain things.\\n    But there subclasses can provide their own implementation.\\n    In programming, an abstract class promises that its subclasses will have certain methods and behaviors.\\n    But without the actual implementation in the abstract class itself, it can't fulfill that promise on its own.\""
      ]
     },
     "execution_count": 20,
     "metadata": {},
     "output_type": "execute_result"
    }
   ],
   "source": [
    "\"\"\" No, it is not possible, an abstract class is meant to serve as blueprint for the other classes which inherit them.\n",
    "    if you are going to try it, it will throw an error.\n",
    "    \n",
    "    Explanation: - abstract classes contain the abstract methods, methods don't have any written statement in it, they are defined with pass.\n",
    "    Since abstract class don't have any written implementation, they cannot provide certain things.\n",
    "    But there subclasses can provide their own implementation.\n",
    "    In programming, an abstract class promises that its subclasses will have certain methods and behaviors.\n",
    "    But without the actual implementation in the abstract class itself, it can't fulfill that promise on its own.\"\"\""
   ]
  },
  {
   "cell_type": "code",
   "execution_count": null,
   "id": "a1c69240-2489-44fe-bce0-671d3bb4d801",
   "metadata": {},
   "outputs": [],
   "source": []
  }
 ],
 "metadata": {
  "kernelspec": {
   "display_name": "Python 3 (ipykernel)",
   "language": "python",
   "name": "python3"
  },
  "language_info": {
   "codemirror_mode": {
    "name": "ipython",
    "version": 3
   },
   "file_extension": ".py",
   "mimetype": "text/x-python",
   "name": "python",
   "nbconvert_exporter": "python",
   "pygments_lexer": "ipython3",
   "version": "3.10.8"
  }
 },
 "nbformat": 4,
 "nbformat_minor": 5
}

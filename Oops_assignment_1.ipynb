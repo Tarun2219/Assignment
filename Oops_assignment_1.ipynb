{
 "cells": [
  {
   "cell_type": "code",
   "execution_count": 1,
   "id": "2700d6cc-5a67-4979-9d25-93f399eab99c",
   "metadata": {
    "scrolled": true,
    "tags": []
   },
   "outputs": [],
   "source": [
    "# Q1. Explain Class and Object with respect to Object-Oriented Programming. Give a suitable example.\n",
    "\n",
    "\"\"\"Classes are the blueprint for individual objects, attributes and methods.\n",
    "Objects are instances of a class created with specifically defined data.\"\"\" \n",
    "\n",
    "class student:\n",
    "    \n",
    "    def __init__(self,roll_no,mobile_number,email_id):\n",
    "        self.roll_no = roll_no\n",
    "        self.mobile_number = mobile_number\n",
    "        self.email_id = email_id\n",
    "        \n",
    "    def return_student_details(self):\n",
    "        return self.roll_no,self.mobile_number,self.email_id"
   ]
  },
  {
   "cell_type": "code",
   "execution_count": 2,
   "id": "7e9aa003-d9c4-4185-8d37-4369d60ca89e",
   "metadata": {},
   "outputs": [],
   "source": [
    "Rohan = student(21,9825147684,\"rohanjaiswal01@gmail.com\")"
   ]
  },
  {
   "cell_type": "code",
   "execution_count": 3,
   "id": "4bb8878e-29ed-479a-b96e-3e0b8ccaeeec",
   "metadata": {},
   "outputs": [
    {
     "data": {
      "text/plain": [
       "'rohanjaiswal01@gmail.com'"
      ]
     },
     "execution_count": 3,
     "metadata": {},
     "output_type": "execute_result"
    }
   ],
   "source": [
    "Rohan.email_id"
   ]
  },
  {
   "cell_type": "code",
   "execution_count": 4,
   "id": "49fdcbc8-be21-4ded-aef4-209b73de2149",
   "metadata": {},
   "outputs": [
    {
     "data": {
      "text/plain": [
       "9825147684"
      ]
     },
     "execution_count": 4,
     "metadata": {},
     "output_type": "execute_result"
    }
   ],
   "source": [
    "Rohan.mobile_number"
   ]
  },
  {
   "cell_type": "code",
   "execution_count": 5,
   "id": "11f09520-8edb-439f-bc36-b9553b92be29",
   "metadata": {},
   "outputs": [
    {
     "data": {
      "text/plain": [
       "21"
      ]
     },
     "execution_count": 5,
     "metadata": {},
     "output_type": "execute_result"
    }
   ],
   "source": [
    "Rohan.roll_no"
   ]
  },
  {
   "cell_type": "code",
   "execution_count": 6,
   "id": "e5072932-99be-4459-a947-9cc5eb32153f",
   "metadata": {},
   "outputs": [
    {
     "data": {
      "text/plain": [
       "(21, 9825147684, 'rohanjaiswal01@gmail.com')"
      ]
     },
     "execution_count": 6,
     "metadata": {},
     "output_type": "execute_result"
    }
   ],
   "source": [
    "Rohan.return_student_details()"
   ]
  },
  {
   "cell_type": "code",
   "execution_count": 7,
   "id": "7a4cf69f-1274-4b02-bb4c-30fd8e136107",
   "metadata": {},
   "outputs": [
    {
     "data": {
      "text/plain": [
       "'The Four pillars of OOPs are\\n1. Abstraction\\n2. Encapsulation\\n3. Inheritance\\n4. Polymorphism'"
      ]
     },
     "execution_count": 7,
     "metadata": {},
     "output_type": "execute_result"
    }
   ],
   "source": [
    "# Q2. Name the four pillars of OOPs.\n",
    "\n",
    "\"\"\"The Four pillars of OOPs are\n",
    "1. Abstraction\n",
    "2. Encapsulation\n",
    "3. Inheritance\n",
    "4. Polymorphism\"\"\""
   ]
  },
  {
   "cell_type": "code",
   "execution_count": 8,
   "id": "2097a031-279d-4681-b34b-8556bf66cfb3",
   "metadata": {},
   "outputs": [
    {
     "data": {
      "text/plain": [
       "' The __init__ function is a inbuilt function in python and we called it constructor.\\n    __init__function is used to pass data in the class you created,\\n    __init__ is used to take data input. whenever you make object for the class, init takes object specific data.'"
      ]
     },
     "execution_count": 8,
     "metadata": {},
     "output_type": "execute_result"
    }
   ],
   "source": [
    "# Q3. Explain why the __init__() function is used. Give a suitable example.\n",
    "\n",
    "\"\"\" The __init__ function is a inbuilt function in python and we called it constructor.\n",
    "    __init__function is used to pass data in the class you created,\n",
    "    __init__ is used to take data input. whenever you make object for the class, init takes object specific data.\"\"\""
   ]
  },
  {
   "cell_type": "code",
   "execution_count": 9,
   "id": "db9bd91b-a608-4a90-8bf3-ea2ba9fa9c0b",
   "metadata": {},
   "outputs": [],
   "source": [
    "class account_details:\n",
    "    \n",
    "    def __init__(self,account_number,balance):\n",
    "        self.__account_number = account_number\n",
    "        self.__balance = balance\n",
    "        \n",
    "    def deposit(self,amount):\n",
    "        self.__balance = self.__balance + amount\n",
    "        return \"Amount is deposited\"\n",
    "    \n",
    "    def account_balance(self):\n",
    "        return self.__balance\n",
    "        \n",
    "    def withdraw(self,amount):\n",
    "        if self.__balance >= amount:\n",
    "            self.__balance = self.__balance - amount\n",
    "            return True\n",
    "        else:\n",
    "            return False\n",
    "        \n",
    "    def return_account_details(self):\n",
    "        return self.__account_number,self.__balance"
   ]
  },
  {
   "cell_type": "code",
   "execution_count": 10,
   "id": "b03e77c6-9a3d-40ec-a66e-d056976d1687",
   "metadata": {},
   "outputs": [],
   "source": [
    "a = account_details(2000000011,250000)"
   ]
  },
  {
   "cell_type": "code",
   "execution_count": 11,
   "id": "528bae95-6a59-421f-81df-45f106b7fd07",
   "metadata": {},
   "outputs": [
    {
     "data": {
      "text/plain": [
       "'Amount is deposited'"
      ]
     },
     "execution_count": 11,
     "metadata": {},
     "output_type": "execute_result"
    }
   ],
   "source": [
    "a.deposit(50000)"
   ]
  },
  {
   "cell_type": "code",
   "execution_count": 12,
   "id": "5329ec3f-0852-4ce9-9ac0-cf9683e09d5f",
   "metadata": {},
   "outputs": [
    {
     "data": {
      "text/plain": [
       "300000"
      ]
     },
     "execution_count": 12,
     "metadata": {},
     "output_type": "execute_result"
    }
   ],
   "source": [
    "a.account_balance()"
   ]
  },
  {
   "cell_type": "code",
   "execution_count": 13,
   "id": "9b4bf423-6f77-40a4-9d10-a4cac4bf2861",
   "metadata": {},
   "outputs": [
    {
     "data": {
      "text/plain": [
       "True"
      ]
     },
     "execution_count": 13,
     "metadata": {},
     "output_type": "execute_result"
    }
   ],
   "source": [
    "a.withdraw(20000)"
   ]
  },
  {
   "cell_type": "code",
   "execution_count": 14,
   "id": "4c9091e2-066f-48f5-ac04-cf4c926a8c7b",
   "metadata": {},
   "outputs": [
    {
     "data": {
      "text/plain": [
       "280000"
      ]
     },
     "execution_count": 14,
     "metadata": {},
     "output_type": "execute_result"
    }
   ],
   "source": [
    "a.account_balance()"
   ]
  },
  {
   "cell_type": "code",
   "execution_count": 15,
   "id": "83862555-ef50-459f-bb51-a7890cdadb20",
   "metadata": {},
   "outputs": [
    {
     "data": {
      "text/plain": [
       "(2000000011, 280000)"
      ]
     },
     "execution_count": 15,
     "metadata": {},
     "output_type": "execute_result"
    }
   ],
   "source": [
    "a.return_account_details()"
   ]
  },
  {
   "cell_type": "code",
   "execution_count": 16,
   "id": "33644658-7313-4e71-9461-5f00ad1c33bb",
   "metadata": {},
   "outputs": [
    {
     "data": {
      "text/plain": [
       "' self is used to bind the method which is used inside class, with the class.\\n    By this means class knows that method is his part.\\n    you can use any name in place of self in class, self is not a reserved keyword,\\n    but yes you need to give a first argument who will behave as a pointer.\\n    At the end self is not a reserved keyword you can use a b c or your name in palce of the self\\n    This only helps to associate with the class.'"
      ]
     },
     "execution_count": 16,
     "metadata": {},
     "output_type": "execute_result"
    }
   ],
   "source": [
    "# Q4. Why self is used in OOPs?\n",
    "\n",
    "\"\"\" self is used to bind the method which is used inside class, with the class.\n",
    "    By this means class knows that method is his part.\n",
    "    you can use any name in place of self in class, self is not a reserved keyword,\n",
    "    but yes you need to give a first argument who will behave as a pointer.\n",
    "    At the end self is not a reserved keyword you can use a b c or your name in palce of the self\n",
    "    This only helps to associate with the class.\"\"\""
   ]
  },
  {
   "cell_type": "code",
   "execution_count": 17,
   "id": "4cd340ef-9ec1-4084-8723-f8288d8b56b8",
   "metadata": {},
   "outputs": [
    {
     "data": {
      "text/plain": [
       "' Inheritance is a part of object oriented programing system,\\n    inheritance allows you to inherit the properties of a base class to another derived class.\\n    \\n    There are 5 types of inheritance:\\n    \\n    1. Single inheritance - When a child class inherits from only one parent class, it is called single inheritance.\\n    \\n    2. Multiple inheritances - When a child class inherits from multiple parent classes, it is called multiple inheritances. \\n    \\n    3. Multilevel inheritance - When we have a child and grandchild relationship.\\n       This means that a child class will inherit from its parent class, which in turn is inheriting from its parent class.\\n       \\n    4. Hierarchical inheritance - More than one derived class can be created from a single base.\\n    \\n    5. Hybrid inheritance - This form combines more than one form of inheritance. Basically, it is a blend of more than one type of inheritance.'"
      ]
     },
     "execution_count": 17,
     "metadata": {},
     "output_type": "execute_result"
    }
   ],
   "source": [
    "# Q5. What is inheritance? Give an example for each type of inheritance.\n",
    "\n",
    "\"\"\" Inheritance is a part of object oriented programing system,\n",
    "    inheritance allows you to inherit the properties of a base class to another derived class.\n",
    "    \n",
    "    There are 5 types of inheritance:\n",
    "    \n",
    "    1. Single inheritance - When a child class inherits from only one parent class, it is called single inheritance.\n",
    "    \n",
    "    2. Multiple inheritances - When a child class inherits from multiple parent classes, it is called multiple inheritances. \n",
    "    \n",
    "    3. Multilevel inheritance - When we have a child and grandchild relationship.\n",
    "       This means that a child class will inherit from its parent class, which in turn is inheriting from its parent class.\n",
    "       \n",
    "    4. Hierarchical inheritance - More than one derived class can be created from a single base.\n",
    "    \n",
    "    5. Hybrid inheritance - This form combines more than one form of inheritance. Basically, it is a blend of more than one type of inheritance.\"\"\""
   ]
  },
  {
   "cell_type": "code",
   "execution_count": 18,
   "id": "10094721-8e9b-4a2a-8469-e78edb31e264",
   "metadata": {},
   "outputs": [],
   "source": [
    "# Single Inheritance\n",
    "\n",
    "class test:\n",
    "    def test_1(self):\n",
    "        return \"This is my test class\"\n",
    "    \n",
    "class child_test(test):\n",
    "    def child_1(self):\n",
    "        return \"This is my child_test class\""
   ]
  },
  {
   "cell_type": "code",
   "execution_count": 19,
   "id": "b7fe532f-821f-4d8d-9d91-1c706429fd25",
   "metadata": {},
   "outputs": [],
   "source": [
    "c = child_test()"
   ]
  },
  {
   "cell_type": "code",
   "execution_count": 20,
   "id": "df48a383-86c5-41df-a40d-fc608e931ade",
   "metadata": {},
   "outputs": [
    {
     "data": {
      "text/plain": [
       "'This is my test class'"
      ]
     },
     "execution_count": 20,
     "metadata": {},
     "output_type": "execute_result"
    }
   ],
   "source": [
    "c.test_1()"
   ]
  },
  {
   "cell_type": "code",
   "execution_count": 21,
   "id": "b19e5676-9e0c-4671-95fa-a1c8e45d1758",
   "metadata": {},
   "outputs": [
    {
     "data": {
      "text/plain": [
       "'This is my child_test class'"
      ]
     },
     "execution_count": 21,
     "metadata": {},
     "output_type": "execute_result"
    }
   ],
   "source": [
    "c.child_1()"
   ]
  },
  {
   "cell_type": "code",
   "execution_count": 22,
   "id": "d4c168a9-1398-4cc1-8185-f0b61f47e837",
   "metadata": {},
   "outputs": [],
   "source": [
    "# Multiple Inheritance\n",
    "\n",
    "class father:\n",
    "    def father_class(self):\n",
    "        return \"This is my father class\"\n",
    "    \n",
    "class mother:\n",
    "    def mother_class(self):\n",
    "        return \"This is my mother class\"\n",
    "    \n",
    "class child(father,mother):\n",
    "    def child_class(self):\n",
    "        return \"This is my child class\""
   ]
  },
  {
   "cell_type": "code",
   "execution_count": 23,
   "id": "9f36eee7-bdd1-461a-8429-c8f26c401cfa",
   "metadata": {},
   "outputs": [],
   "source": [
    "a = child()"
   ]
  },
  {
   "cell_type": "code",
   "execution_count": 24,
   "id": "db47ffef-46af-4b00-883e-6788f4aec7d8",
   "metadata": {},
   "outputs": [
    {
     "data": {
      "text/plain": [
       "'This is my father class'"
      ]
     },
     "execution_count": 24,
     "metadata": {},
     "output_type": "execute_result"
    }
   ],
   "source": [
    "a.father_class()"
   ]
  },
  {
   "cell_type": "code",
   "execution_count": 25,
   "id": "dd5fe5ff-e6a5-45f5-bd23-02a3da1021bd",
   "metadata": {},
   "outputs": [
    {
     "data": {
      "text/plain": [
       "'This is my mother class'"
      ]
     },
     "execution_count": 25,
     "metadata": {},
     "output_type": "execute_result"
    }
   ],
   "source": [
    "a.mother_class()"
   ]
  },
  {
   "cell_type": "code",
   "execution_count": 26,
   "id": "4ba167e7-a4d3-45f5-928a-5388ca9ff004",
   "metadata": {},
   "outputs": [
    {
     "data": {
      "text/plain": [
       "'This is my child class'"
      ]
     },
     "execution_count": 26,
     "metadata": {},
     "output_type": "execute_result"
    }
   ],
   "source": [
    "a.child_class()"
   ]
  },
  {
   "cell_type": "code",
   "execution_count": 27,
   "id": "e6f59355-8270-43d9-bc1f-29ac75235c23",
   "metadata": {},
   "outputs": [],
   "source": [
    "# Multilevel Inheritance\n",
    "\n",
    "class father_class:\n",
    "    def father_characteristics(self):\n",
    "        return \"father characteristics\"\n",
    "    \n",
    "class child_class(father_class):\n",
    "    def child_characteristics(self):\n",
    "        return \"child characteristics\"\n",
    "    \n",
    "class grandchild_class(child_class):\n",
    "    def grandchild_characteristics(self):\n",
    "        return \"grandchild characteristics\""
   ]
  },
  {
   "cell_type": "code",
   "execution_count": 28,
   "id": "1e69303a-ce1b-49c0-bbb8-7b02d4207c2e",
   "metadata": {},
   "outputs": [],
   "source": [
    "g = grandchild_class()"
   ]
  },
  {
   "cell_type": "code",
   "execution_count": 29,
   "id": "5127035e-a004-4517-a405-152a54434ed0",
   "metadata": {},
   "outputs": [
    {
     "data": {
      "text/plain": [
       "'father characteristics'"
      ]
     },
     "execution_count": 29,
     "metadata": {},
     "output_type": "execute_result"
    }
   ],
   "source": [
    "g.father_characteristics()"
   ]
  },
  {
   "cell_type": "code",
   "execution_count": 30,
   "id": "c5c7570c-dc85-455d-968f-198dfadce347",
   "metadata": {},
   "outputs": [
    {
     "data": {
      "text/plain": [
       "'child characteristics'"
      ]
     },
     "execution_count": 30,
     "metadata": {},
     "output_type": "execute_result"
    }
   ],
   "source": [
    "g.child_characteristics()"
   ]
  },
  {
   "cell_type": "code",
   "execution_count": 31,
   "id": "285fbebf-0027-42e4-877f-9516ffe07198",
   "metadata": {},
   "outputs": [
    {
     "data": {
      "text/plain": [
       "'grandchild characteristics'"
      ]
     },
     "execution_count": 31,
     "metadata": {},
     "output_type": "execute_result"
    }
   ],
   "source": [
    "g.grandchild_characteristics()"
   ]
  },
  {
   "cell_type": "code",
   "execution_count": 32,
   "id": "863f031b-021e-4edd-b8c0-665e465cc713",
   "metadata": {},
   "outputs": [],
   "source": [
    "# Hierarchical Inheritance\n",
    "\n",
    "class Vehicle:\n",
    "    def __init__(self, make, model):\n",
    "        self.make = make\n",
    "        self.model = model\n",
    "\n",
    "    def display_info(self):\n",
    "        return f\"Vehicle - {self.model},{self.make}\"\n",
    "    \n",
    "class Car(Vehicle):\n",
    "    def __init__(self, make, model, max_speed):\n",
    "        super().__init__(make, model)\n",
    "        self.max_speed = max_speed\n",
    "\n",
    "    def display_info(self):\n",
    "        Info = super().display_info()\n",
    "        return f\"{Info}, Max Speed - {self.max_speed} km/h\" "
   ]
  },
  {
   "cell_type": "code",
   "execution_count": 33,
   "id": "bcbbeaf9-8082-429c-80cd-4a4eb2251012",
   "metadata": {},
   "outputs": [],
   "source": [
    "Audi = Car(2018,\"R8\",380)"
   ]
  },
  {
   "cell_type": "code",
   "execution_count": 34,
   "id": "cc54339e-0d9e-46ae-b15d-405152950024",
   "metadata": {},
   "outputs": [
    {
     "data": {
      "text/plain": [
       "2018"
      ]
     },
     "execution_count": 34,
     "metadata": {},
     "output_type": "execute_result"
    }
   ],
   "source": [
    "Audi.make"
   ]
  },
  {
   "cell_type": "code",
   "execution_count": 35,
   "id": "402b144e-e837-4386-b398-1b7e2fe95c4b",
   "metadata": {},
   "outputs": [
    {
     "data": {
      "text/plain": [
       "'R8'"
      ]
     },
     "execution_count": 35,
     "metadata": {},
     "output_type": "execute_result"
    }
   ],
   "source": [
    "Audi.model"
   ]
  },
  {
   "cell_type": "code",
   "execution_count": 36,
   "id": "665a9782-ac48-49c2-83c6-9f363432204e",
   "metadata": {},
   "outputs": [
    {
     "data": {
      "text/plain": [
       "380"
      ]
     },
     "execution_count": 36,
     "metadata": {},
     "output_type": "execute_result"
    }
   ],
   "source": [
    "Audi.max_speed"
   ]
  },
  {
   "cell_type": "code",
   "execution_count": 37,
   "id": "3a7d362e-58ba-4adb-83b9-a7ece21b7865",
   "metadata": {},
   "outputs": [
    {
     "data": {
      "text/plain": [
       "'Vehicle - R8,2018, Max Speed - 380 km/h'"
      ]
     },
     "execution_count": 37,
     "metadata": {},
     "output_type": "execute_result"
    }
   ],
   "source": [
    "Audi.display_info()"
   ]
  },
  {
   "cell_type": "code",
   "execution_count": 38,
   "id": "f5d532e0-8e5d-4787-bd22-c26d41a56f63",
   "metadata": {},
   "outputs": [],
   "source": [
    "# Hybrid Inheritance\n",
    "\n",
    "class Parent:\n",
    "    def display(self):\n",
    "        print(\"Parent class method\")\n",
    "\n",
    "class Mother(Parent):\n",
    "    def mother_method(self):\n",
    "        print(\"Mother class method\")\n",
    "              \n",
    "class Father(Parent):\n",
    "    def father_method(self):\n",
    "        print(\"Father class method\")\n",
    "\n",
    "class Child(Mother, Father):\n",
    "    def child_method(self):\n",
    "        print(\"Child class method\")"
   ]
  },
  {
   "cell_type": "code",
   "execution_count": 39,
   "id": "2d471e12-df6d-4b8e-8ced-6f0fa1c8eeeb",
   "metadata": {},
   "outputs": [],
   "source": [
    "Arwin = Child()"
   ]
  },
  {
   "cell_type": "code",
   "execution_count": 40,
   "id": "30e3ec1f-8e59-4c7c-99d5-02e9202e9816",
   "metadata": {},
   "outputs": [
    {
     "name": "stdout",
     "output_type": "stream",
     "text": [
      "Parent class method\n"
     ]
    }
   ],
   "source": [
    "Arwin.display()"
   ]
  },
  {
   "cell_type": "code",
   "execution_count": 41,
   "id": "d9708b44-fe3e-4ef5-a859-635c3a872301",
   "metadata": {},
   "outputs": [
    {
     "name": "stdout",
     "output_type": "stream",
     "text": [
      "Father class method\n"
     ]
    }
   ],
   "source": [
    "Arwin.father_method()"
   ]
  },
  {
   "cell_type": "code",
   "execution_count": 42,
   "id": "c5feac35-3588-4dc6-b91c-5bc6d518f04f",
   "metadata": {},
   "outputs": [
    {
     "name": "stdout",
     "output_type": "stream",
     "text": [
      "Mother class method\n"
     ]
    }
   ],
   "source": [
    "Arwin.mother_method()"
   ]
  },
  {
   "cell_type": "code",
   "execution_count": 43,
   "id": "7bb77b85-2e5b-4463-998a-2c79ff816178",
   "metadata": {},
   "outputs": [
    {
     "name": "stdout",
     "output_type": "stream",
     "text": [
      "Child class method\n"
     ]
    }
   ],
   "source": [
    "Arwin.child_method()"
   ]
  },
  {
   "cell_type": "code",
   "execution_count": null,
   "id": "d809a7a6-ec8b-46fd-bd59-27aca6076787",
   "metadata": {},
   "outputs": [],
   "source": []
  }
 ],
 "metadata": {
  "kernelspec": {
   "display_name": "Python 3 (ipykernel)",
   "language": "python",
   "name": "python3"
  },
  "language_info": {
   "codemirror_mode": {
    "name": "ipython",
    "version": 3
   },
   "file_extension": ".py",
   "mimetype": "text/x-python",
   "name": "python",
   "nbconvert_exporter": "python",
   "pygments_lexer": "ipython3",
   "version": "3.10.8"
  }
 },
 "nbformat": 4,
 "nbformat_minor": 5
}
